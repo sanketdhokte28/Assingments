{
 "cells": [
  {
   "cell_type": "code",
   "execution_count": 1,
   "metadata": {},
   "outputs": [
    {
     "name": "stdout",
     "output_type": "stream",
     "text": [
      "python\n",
      "ytho\n"
     ]
    }
   ],
   "source": [
    "z=\"python\"\n",
    "print(z)\n",
    "x=z[-5:-1]\n",
    "print(x)"
   ]
  },
  {
   "cell_type": "code",
   "execution_count": 2,
   "metadata": {},
   "outputs": [
    {
     "name": "stdout",
     "output_type": "stream",
     "text": [
      "python,program\n",
      "['python', 'program']\n"
     ]
    }
   ],
   "source": [
    "x=\"python,program\"\n",
    "print(x)\n",
    "y=x.split(\",\")\n",
    "print(y)\n"
   ]
  },
  {
   "cell_type": "code",
   "execution_count": 3,
   "metadata": {},
   "outputs": [
    {
     "name": "stdout",
     "output_type": "stream",
     "text": [
      "PYTHON,PROGRAM\n"
     ]
    }
   ],
   "source": [
    "x=\"python,program\"\n",
    "y=x[:].upper()\n",
    "w=x[:]\n",
    "print(y)"
   ]
  },
  {
   "cell_type": "code",
   "execution_count": 4,
   "metadata": {},
   "outputs": [
    {
     "name": "stdout",
     "output_type": "stream",
     "text": [
      "python $rogram\n",
      "-1\n"
     ]
    }
   ],
   "source": [
    "x=\"python program\"\n",
    "y=x[1:].replace(\"p\",\"$\")\n",
    "#print(y)\n",
    "z=x[0]\n",
    "print(z+y)\n",
    "q=x.find(\"e\")\n",
    "print(q)"
   ]
  },
  {
   "cell_type": "code",
   "execution_count": 5,
   "metadata": {},
   "outputs": [
    {
     "name": "stdout",
     "output_type": "stream",
     "text": [
      "pyth10on programm20ing\n"
     ]
    }
   ],
   "source": [
    "x=\"python programming\"\n",
    "print(\"pyth{}on programm{}ing\".format(10,20))"
   ]
  },
  {
   "cell_type": "code",
   "execution_count": null,
   "metadata": {},
   "outputs": [],
   "source": [
    "x=input(\"Enter the value for x \")\n",
    "print(\"the value of x is\",x)"
   ]
  },
  {
   "cell_type": "code",
   "execution_count": null,
   "metadata": {},
   "outputs": [],
   "source": [
    "x=input(\"enter the sents\")\n",
    "print(x)\n",
    "y=x[0]\n",
    "#print(y)\n",
    "print(x[0]+x[1:].replace(y,\"@\"))"
   ]
  },
  {
   "cell_type": "code",
   "execution_count": 6,
   "metadata": {},
   "outputs": [
    {
     "name": "stdout",
     "output_type": "stream",
     "text": [
      "enter the file namesample.java\n",
      ".java\n"
     ]
    }
   ],
   "source": [
    "x=input(\"enter the file name\")\n",
    "y=x.split(\".\")\n",
    "#print(y)\n",
    "print(\".\"+y[1])"
   ]
  },
  {
   "cell_type": "code",
   "execution_count": 26,
   "metadata": {},
   "outputs": [
    {
     "name": "stdout",
     "output_type": "stream",
     "text": [
      "('xyc', 'abz')\n"
     ]
    }
   ],
   "source": [
    "x=\"abc,xyz\"\n",
    "z=((x[-3:-1]+x[2]),(x[0:2]+x[-1]))\n",
    "print(z)"
   ]
  },
  {
   "cell_type": "code",
   "execution_count": 6,
   "metadata": {},
   "outputs": [
    {
     "name": "stdout",
     "output_type": "stream",
     "text": [
      "enter the string       this is my programms\n",
      "shis is my programmt\n"
     ]
    }
   ],
   "source": [
    "x=input(\"enter the string       \")\n",
    "y=x[-1]\n",
    "z=x[0]\n",
    "print(y+x[1:-1]+z)"
   ]
  },
  {
   "cell_type": "code",
   "execution_count": 7,
   "metadata": {},
   "outputs": [
    {
     "name": "stdout",
     "output_type": "stream",
     "text": [
      "enter the string       hello this is sanket\n",
      "HELLO THIS IS SANKET\n",
      "hello this is sanket\n"
     ]
    }
   ],
   "source": [
    "x=input(\"enter the string       \")\n",
    "y=x.upper()\n",
    "z=x.lower()\n",
    "print(y)\n",
    "print(z)"
   ]
  },
  {
   "cell_type": "code",
   "execution_count": 1,
   "metadata": {},
   "outputs": [
    {
     "name": "stdout",
     "output_type": "stream",
     "text": [
      "enter the string       hellow\n",
      "\n"
     ]
    }
   ],
   "source": [
    "x=input(\"enter the string       \")\n",
    "y=x[4:0]\n",
    "print(y)"
   ]
  },
  {
   "cell_type": "code",
   "execution_count": 9,
   "metadata": {},
   "outputs": [
    {
     "name": "stdout",
     "output_type": "stream",
     "text": [
      "enter the string       this is the string     \n",
      "26\n",
      "this is the string\n",
      "18\n"
     ]
    }
   ],
   "source": [
    "x=input(\"enter the string    \")\n",
    "y=len(x)\n",
    "print(y)\n",
    "z=x.strip()\n",
    "print(z)\n",
    "print(len(z))"
   ]
  },
  {
   "cell_type": "code",
   "execution_count": 29,
   "metadata": {},
   "outputs": [
    {
     "name": "stdout",
     "output_type": "stream",
     "text": [
      "enter the string==  hellow\n",
      "h == 0\n",
      "w == 5\n"
     ]
    }
   ],
   "source": [
    "x=input(\"enter the string==  \")\n",
    "y=x[0]\n",
    "#print(y)\n",
    "q=x.index(y)\n",
    "print(y,\"==\",q)\n",
    "z=x[-1]\n",
    "#print(z)\n",
    "r=x.index(z)\n",
    "print(z,\"==\",r)"
   ]
  },
  {
   "cell_type": "code",
   "execution_count": 4,
   "metadata": {},
   "outputs": [
    {
     "name": "stdout",
     "output_type": "stream",
     "text": [
      "on\n",
      "pythonononon\n"
     ]
    }
   ],
   "source": [
    "x=\"python\"\n",
    "y=x[-2:]\n",
    "print(y)\n",
    "print(x[:4]+y*4)"
   ]
  },
  {
   "cell_type": "code",
   "execution_count": 7,
   "metadata": {},
   "outputs": [
    {
     "name": "stdout",
     "output_type": "stream",
     "text": [
      "n\n"
     ]
    }
   ],
   "source": [
    "x=\"python\"\n",
    "y=x[-1:]\n",
    "print(y)"
   ]
  },
  {
   "cell_type": "code",
   "execution_count": null,
   "metadata": {},
   "outputs": [],
   "source": []
  }
 ],
 "metadata": {
  "kernelspec": {
   "display_name": "Python 3",
   "language": "python",
   "name": "python3"
  },
  "language_info": {
   "codemirror_mode": {
    "name": "ipython",
    "version": 3
   },
   "file_extension": ".py",
   "mimetype": "text/x-python",
   "name": "python",
   "nbconvert_exporter": "python",
   "pygments_lexer": "ipython3",
   "version": "3.7.4"
  }
 },
 "nbformat": 4,
 "nbformat_minor": 2
}
